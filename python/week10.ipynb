{
 "cells": [
  {
   "cell_type": "code",
   "execution_count": 1,
   "id": "478a97eb",
   "metadata": {
    "scrolled": false
   },
   "outputs": [
    {
     "name": "stdout",
     "output_type": "stream",
     "text": [
      "죽는 날까지 하늘을 우러러\n",
      "한 점 부끄럼이 없기를,\n",
      "잎새에 이는 바람에도\n",
      "너는 괴로워했다.\n",
      "별을 노래하는 마음으로\n",
      "모든 죽어가는 것을 사랑해야지\n",
      "그리고 너한테 주어진 길을\n",
      "걸어가야겠다.\n",
      "오늘 밤에도 별이 바람에 스치운다.\n"
     ]
    }
   ],
   "source": [
    "strr = \"\"\"     죽는 날까지 하늘을 우러러\n",
    "한 점 부끄럼이 없기를,\n",
    "잎새에 이는 바람에도\n",
    "나는 괴로워했다.\n",
    "별을 노래하는 마음으로\n",
    "모든 죽어가는 것을 사랑해야지\n",
    "그리고 나한테 주어진 길을\n",
    "걸어가야겠다.\n",
    "오늘 밤에도 별이 바람에 스치운다.     \"\"\"\n",
    "strr = strr.strip()\n",
    "strr = strr.replace('나','너')\n",
    "print(strr)"
   ]
  },
  {
   "cell_type": "code",
   "execution_count": 2,
   "id": "ad38e8e4",
   "metadata": {},
   "outputs": [
    {
     "name": "stdout",
     "output_type": "stream",
     "text": [
      "Numbers? 10 456 87 78\n",
      "Max = 456\n"
     ]
    }
   ],
   "source": [
    "strInput = input(\"Numbers? \")\n",
    "strList = strInput.split()\n",
    "\n",
    "result = int(strList[0])\n",
    "\n",
    "#for i in strList[1:]:\n",
    "for i in strList:\n",
    "    if result < int(i):\n",
    "        result = int(i)\n",
    "\n",
    "print(\"Max =\",result)"
   ]
  },
  {
   "cell_type": "code",
   "execution_count": 6,
   "id": "c9434390",
   "metadata": {},
   "outputs": [
    {
     "name": "stdout",
     "output_type": "stream",
     "text": [
      "\"abc def\" is encoded into \"efg!bcd\"\n",
      "\"efg!bcd\" is decoded into \"abc def\"\n"
     ]
    }
   ],
   "source": [
    "def conv_asc(strr, num):\n",
    "    new_str = \"\"\n",
    "    for i in strr:\n",
    "        code=ord(i)\n",
    "        new_str += chr(code+num)\n",
    "    return new_str\n",
    "\n",
    "def enc(strr,key):\n",
    "    strList = strr.split()\n",
    "    strList = strList[::-1] #strList.reverse()\n",
    "    new_str=\" \".join(strList)\n",
    "    return conv_asc(new_str,key)\n",
    "def dec(strr,key):\n",
    "    strr = conv_asc(strr,key*-1)\n",
    "    strList = strr.split()\n",
    "    strList = strList[::-1] #strList.reverse()\n",
    "    new_str = \" \".join(strList)\n",
    "    return new_str\n",
    "\n",
    "tStr = \"abc def\"\n",
    "enc_str = enc(tStr,1)\n",
    "print(\"\\\"\"+tStr+\"\\\" is encoded into \\\"\"+enc_str+\"\\\"\")\n",
    "\n",
    "dec_str = dec(enc_str,1)\n",
    "print(\"\\\"\"+enc_str+\"\\\" is decoded into \\\"\"+dec_str+\"\\\"\")"
   ]
  }
 ],
 "metadata": {
  "kernelspec": {
   "display_name": "Python 3 (ipykernel)",
   "language": "python",
   "name": "python3"
  },
  "language_info": {
   "codemirror_mode": {
    "name": "ipython",
    "version": 3
   },
   "file_extension": ".py",
   "mimetype": "text/x-python",
   "name": "python",
   "nbconvert_exporter": "python",
   "pygments_lexer": "ipython3",
   "version": "3.10.4"
  }
 },
 "nbformat": 4,
 "nbformat_minor": 5
}
