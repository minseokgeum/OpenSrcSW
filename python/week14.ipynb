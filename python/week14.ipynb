{
 "cells": [
  {
   "cell_type": "code",
   "execution_count": 5,
   "id": "35410834",
   "metadata": {},
   "outputs": [
    {
     "data": {
      "image/png": "[encoded data removed]",
      "text/plain": [
       "<Figure size 432x288 with 1 Axes>"
      ]
     },
     "metadata": {
      "needs_background": "light"
     },
     "output_type": "display_data"
    }
   ],
   "source": [
    "import numpy as np\n",
    "import matplotlib.pyplot as plt\n",
    "\n",
    "docs = np.array([[1,1,0,1,0,1], [1,1,1,0,1,0], [1,1,0,1,0,0]])\n",
    "query = np.array([1,1,0,0,1,0])\n",
    "xdata = []\n",
    "ydata = []\n",
    "q_size = np.sqrt(query.dot(query))\n",
    "\n",
    "for i, doc in enumerate(docs):\n",
    "    ydata.append(doc.dot(query)/(np.sqrt(doc.dot(doc))*q_size))\n",
    "    xdata.append(\"doc{:d}={:.2f}\".format(i+1,ydata[i]))\n",
    "plt.title(\"Cosine similarities\")\n",
    "plt.bar(xdata, ydata)\n",
    "plt.show()"
   ]
  },
  {
   "cell_type": "code",
   "execution_count": 19,
   "id": "27252012",
   "metadata": {},
   "outputs": [
    {
     "name": "stdout",
     "output_type": "stream",
     "text": [
      "단가와 개수로 이루어진 데이터 프레임 생성\n",
      "        unit price  number\n",
      "store1        1000      25\n",
      "store2         280     120\n",
      "store3         900      30 \n",
      "\n",
      "단가와 개수를 곱한 총 가격이 추가된 데이터 프레임 생성\n",
      "        unit price  number  total price\n",
      "store1        1000      25        25000\n",
      "store2         280     120        33600\n",
      "store3         900      30        27000 \n",
      "\n",
      "총 가격이 가장 비싼 가게 출력\n"
     ]
    },
    {
     "data": {
      "text/html": [
       "<div>\n",
       "<style scoped>\n",
       "    .dataframe tbody tr th:only-of-type {\n",
       "        vertical-align: middle;\n",
       "    }\n",
       "\n",
       "    .dataframe tbody tr th {\n",
       "        vertical-align: top;\n",
       "    }\n",
       "\n",
       "    .dataframe thead th {\n",
       "        text-align: right;\n",
       "    }\n",
       "</style>\n",
       "<table border=\"1\" class=\"dataframe\">\n",
       "  <thead>\n",
       "    <tr style=\"text-align: right;\">\n",
       "      <th></th>\n",
       "      <th>unit price</th>\n",
       "      <th>number</th>\n",
       "      <th>total price</th>\n",
       "    </tr>\n",
       "  </thead>\n",
       "  <tbody>\n",
       "    <tr>\n",
       "      <th>store2</th>\n",
       "      <td>280</td>\n",
       "      <td>120</td>\n",
       "      <td>33600</td>\n",
       "    </tr>\n",
       "  </tbody>\n",
       "</table>\n",
       "</div>"
      ],
      "text/plain": [
       "        unit price  number  total price\n",
       "store2         280     120        33600"
      ]
     },
     "execution_count": 19,
     "metadata": {},
     "output_type": "execute_result"
    }
   ],
   "source": [
    "import numpy as np\n",
    "import matplotlib.pyplot as plt\n",
    "import pandas as pd\n",
    "\n",
    "data = [[1000,25], [280,120], [900,30]]\n",
    "df = pd.DataFrame(data, index = [\"store1\",\"store2\",\"store3\"], columns = [\"unit price\",\"number\"])\n",
    "print(\"단가와 개수로 이루어진 데이터 프레임 생성\")\n",
    "print(df,\"\\n\")\n",
    "\n",
    "df[\"total price\"] = df[\"unit price\"]*df[\"number\"]\n",
    "print(\"단가와 개수를 곱한 총 가격이 추가된 데이터 프레임 생성\")\n",
    "print(df,\"\\n\")\n",
    "\n",
    "max_price = max(df[\"total price\"])\n",
    "df_result = df[df[\"total price\"]==max_price]\n",
    "print(\"총 가격이 가장 비싼 가게 출력\")\n",
    "df_result\n"
   ]
  }
 ],
 "metadata": {
  "kernelspec": {
   "display_name": "Python 3 (ipykernel)",
   "language": "python",
   "name": "python3"
  },
  "language_info": {
   "codemirror_mode": {
    "name": "ipython",
    "version": 3
   },
   "file_extension": ".py",
   "mimetype": "text/x-python",
   "name": "python",
   "nbconvert_exporter": "python",
   "pygments_lexer": "ipython3",
   "version": "3.10.4"
  }
 },
 "nbformat": 4,
 "nbformat_minor": 5
}
