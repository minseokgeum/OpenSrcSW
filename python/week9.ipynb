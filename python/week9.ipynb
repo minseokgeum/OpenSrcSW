{
 "cells": [
  {
   "cell_type": "code",
   "execution_count": 33,
   "id": "1edb01ca",
   "metadata": {},
   "outputs": [
    {
     "name": "stdout",
     "output_type": "stream",
     "text": [
      "456 분은 7 시간 36 분\n"
     ]
    }
   ],
   "source": [
    "input = 456\n",
    "hour = int(input/60)\n",
    "min = 456%60\n",
    "print(input,\"분은\",hour,\"시간\", min, \"분\")"
   ]
  },
  {
   "cell_type": "code",
   "execution_count": 1,
   "id": "1d29379f",
   "metadata": {},
   "outputs": [
    {
     "name": "stdout",
     "output_type": "stream",
     "text": [
      "김철수 : 2.8\n"
     ]
    }
   ],
   "source": [
    "d = {\"홍길동\":3.4,\"임꺽정\":4.0,\"김철수\":2.8,\"이영희\":3.9}\n",
    "k = d.keys()\n",
    "kList=list(k)\n",
    "kList.sort()\n",
    "\n",
    "print(kList[0],\":\",d[kList[0]])"
   ]
  }
 ],
 "metadata": {
  "kernelspec": {
   "display_name": "Python 3 (ipykernel)",
   "language": "python",
   "name": "python3"
  },
  "language_info": {
   "codemirror_mode": {
    "name": "ipython",
    "version": 3
   },
   "file_extension": ".py",
   "mimetype": "text/x-python",
   "name": "python",
   "nbconvert_exporter": "python",
   "pygments_lexer": "ipython3",
   "version": "3.10.4"
  }
 },
 "nbformat": 4,
 "nbformat_minor": 5
}
